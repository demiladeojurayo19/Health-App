{
 "cells": [
  {
   "cell_type": "markdown",
   "id": "356eac68",
   "metadata": {},
   "source": [
    "# Import Libraries"
   ]
  },
  {
   "cell_type": "code",
   "execution_count": 1,
   "id": "dfa0f97b",
   "metadata": {},
   "outputs": [],
   "source": [
    "from libraries import *\n",
    "from sklearn.utils import resample"
   ]
  },
  {
   "cell_type": "markdown",
   "id": "f047444f",
   "metadata": {},
   "source": [
    "# Load data"
   ]
  },
  {
   "cell_type": "code",
   "execution_count": 2,
   "id": "97b228a1",
   "metadata": {},
   "outputs": [],
   "source": [
    "df = pd.read_csv('heart_failure_clinical_records_dataset-pcp.csv')"
   ]
  },
  {
   "cell_type": "markdown",
   "id": "6cd3ad17",
   "metadata": {},
   "source": [
    "# Balancing the Class"
   ]
  },
  {
   "cell_type": "code",
   "execution_count": 8,
   "id": "94c02705",
   "metadata": {},
   "outputs": [
    {
     "data": {
      "image/png": "[encoded data removed]",
      "text/plain": [
       "<Figure size 640x480 with 1 Axes>"
      ]
     },
     "metadata": {},
     "output_type": "display_data"
    }
   ],
   "source": [
    "# Separate majority and minority classes\n",
    "no_anaemia = df[df['anaemia'] == 0]\n",
    "anaemia = df[df['anaemia'] == 1]\n",
    "\n",
    "# Upsample minority class\n",
    "anaemia_upsampled = resample(anaemia,\n",
    "                             replace=True,\n",
    "                             n_samples=len(no_anaemia),  # match number in majority class\n",
    "                             random_state=27)  # reproducible results\n",
    "\n",
    "# Combine upsampled minority class with majority class\n",
    "upsampled = pd.concat([anaemia_upsampled, no_anaemia])\n",
    "\n",
    "sns.countplot(x='anaemia', data=upsampled).set(title='Fixed anaemia class')\n",
    "plt.show()\n",
    "\n",
    "# Check new class counts\n",
    "#upsampled['anaemia'].value_counts()"
   ]
  },
  {
   "cell_type": "code",
   "execution_count": 4,
   "id": "0ab61fb8",
   "metadata": {},
   "outputs": [],
   "source": [
    "# Splitting the dataset\n",
    "# labels\n",
    "y = upsampled['anaemia']\n",
    "\n",
    "# features\n",
    "X = upsampled.drop('anaemia', axis=1)"
   ]
  },
  {
   "cell_type": "markdown",
   "id": "d8c74bb2",
   "metadata": {},
   "source": [
    "# Logistic Regression and Hyperparameter tuning"
   ]
  },
  {
   "cell_type": "code",
   "execution_count": 5,
   "id": "16dd7cad",
   "metadata": {},
   "outputs": [
    {
     "name": "stdout",
     "output_type": "stream",
     "text": [
      "Classification Report (with Polynomial Features):\n",
      "              precision    recall  f1-score   support\n",
      "\n",
      "           0       0.53      0.53      0.53        32\n",
      "           1       0.58      0.58      0.58        36\n",
      "\n",
      "    accuracy                           0.56        68\n",
      "   macro avg       0.56      0.56      0.56        68\n",
      "weighted avg       0.56      0.56      0.56        68\n",
      "\n"
     ]
    }
   ],
   "source": [
    "def train_and_evaluate_logistic_regression(X, y, polynomial_degree=2, test_size=0.2, random_state=42):\n",
    "    # Split the data into training and testing sets\n",
    "    X_train, X_test, y_train, y_test = train_test_split(X, y, test_size=test_size, random_state=random_state)\n",
    "\n",
    "    # Feature scaling\n",
    "    scaler = StandardScaler()\n",
    "    X_train_scaled = scaler.fit_transform(X_train)\n",
    "    X_test_scaled = scaler.transform(X_test)\n",
    "\n",
    "    # Hyperparameter tuning using GridSearchCV\n",
    "    param_grid = {'C': [0.001, 0.01, 0.1, 1, 10, 100]}\n",
    "    grid_search = GridSearchCV(LogisticRegression(), param_grid, cv=5)\n",
    "    grid_search.fit(X_train_scaled, y_train)\n",
    "\n",
    "    # Get the best logistic regression model from the grid search\n",
    "    best_lr = grid_search.best_estimator_\n",
    "\n",
    "    # Apply polynomial features\n",
    "    poly = PolynomialFeatures(degree=polynomial_degree)\n",
    "    X_train_poly = poly.fit_transform(X_train_scaled)\n",
    "    X_test_poly = poly.transform(X_test_scaled)\n",
    "\n",
    "    # Train logistic regression on the polynomial features\n",
    "    best_lr.fit(X_train_poly, y_train)\n",
    "\n",
    "    # Make predictions on the test set\n",
    "    y_pred_poly = best_lr.predict(X_test_poly)\n",
    "\n",
    "    # Display the classification report\n",
    "    report = classification_report(y_test, y_pred_poly)\n",
    "    print(f\"Classification Report (with Polynomial Features):\\n{report}\")\n",
    "\n",
    "    return best_lr, report\n",
    "\n",
    "best_lr, classification_report_result = train_and_evaluate_logistic_regression(X, y)"
   ]
  },
  {
   "cell_type": "markdown",
   "id": "391d264d",
   "metadata": {},
   "source": [
    "# Support Vector Machine"
   ]
  },
  {
   "cell_type": "code",
   "execution_count": 6,
   "id": "bdbcbf47",
   "metadata": {},
   "outputs": [],
   "source": [
    "def train_svm(X, y, kernel='linear', C=1.0, gamma='scale', test_size=0.2, random_state=None):\n",
    "\n",
    "    # Split the data into training and testing sets\n",
    "    X_train, X_test, y_train, y_test = train_test_split(X, y, test_size=test_size, random_state=random_state)\n",
    "\n",
    "    # Create an SVM classifier with the specified parameters\n",
    "    clf = svm.SVC(kernel=kernel, C=C, gamma=gamma)\n",
    "\n",
    "    # Train the SVM classifier\n",
    "    clf.fit(X_train, y_train)\n",
    "\n",
    "    # Make predictions on the test set\n",
    "    y_pred = clf.predict(X_test)\n",
    "\n",
    "    # Calculate accuracy\n",
    "    accuracy = accuracy_score(y_test, y_pred)\n",
    "\n",
    "    # Generate a classification report\n",
    "    classification_rep = classification_report(y_test, y_pred)\n",
    "\n",
    "    return clf, X_train, X_test, y_train, y_test, accuracy, classification_rep\n"
   ]
  },
  {
   "cell_type": "code",
   "execution_count": 10,
   "id": "6828b57f",
   "metadata": {},
   "outputs": [
    {
     "name": "stdout",
     "output_type": "stream",
     "text": [
      "Accuracy on the test set: 0.4852941176470588\n",
      "Classification Report:\n",
      "               precision    recall  f1-score   support\n",
      "\n",
      "           0       0.48      0.91      0.62        32\n",
      "           1       0.57      0.11      0.19        36\n",
      "\n",
      "    accuracy                           0.49        68\n",
      "   macro avg       0.52      0.51      0.40        68\n",
      "weighted avg       0.53      0.49      0.39        68\n",
      "\n"
     ]
    }
   ],
   "source": [
    "trained_svm, X_train, X_test, y_train, y_test, accuracy, classification_rep = train_svm(X, y, kernel='linear', C=1.0, gamma='scale', test_size=0.2, random_state=42)\n",
    "# Display classification report\n",
    "print(\"Accuracy on the test set:\", accuracy)\n",
    "print(\"Classification Report:\\n\", classification_rep)"
   ]
  },
  {
   "cell_type": "markdown",
   "id": "5deea268",
   "metadata": {},
   "source": [
    "# Gaussian Naive Bayes"
   ]
  },
  {
   "cell_type": "code",
   "execution_count": 8,
   "id": "34097418",
   "metadata": {},
   "outputs": [
    {
     "name": "stdout",
     "output_type": "stream",
     "text": [
      "\n",
      "Classification Report:\n",
      "               precision    recall  f1-score   support\n",
      "\n",
      "           0       0.69      0.28      0.40        32\n",
      "           1       0.58      0.89      0.70        36\n",
      "\n",
      "    accuracy                           0.60        68\n",
      "   macro avg       0.64      0.59      0.55        68\n",
      "weighted avg       0.63      0.60      0.56        68\n",
      "\n"
     ]
    }
   ],
   "source": [
    "# Get training and testing data \n",
    "X_train, X_test, y_train, y_test = train_test_split(X, y, test_size=0.2, random_state=42)\n",
    "\n",
    "# Define the model \n",
    "naive_bayes = GaussianNB()\n",
    "\n",
    "# Fit the model \n",
    "naive_bayes.fit(X_train, y_train)\n",
    "\n",
    "# Get predictions on the test set \n",
    "y_hat = naive_bayes.predict(X_test)\n",
    "\n",
    "# Display classification report\n",
    "print('\\nClassification Report:\\n', classification_report(y_test, y_hat))\n"
   ]
  },
  {
   "cell_type": "code",
   "execution_count": 9,
   "id": "2a8d2296",
   "metadata": {},
   "outputs": [],
   "source": [
    "# Save the trained model to a file using pickle\n",
    "with open('anaemia_model.pkl', 'wb') as file:\n",
    "    pickle.dump(best_lr, file)"
   ]
  }
 ],
 "metadata": {
  "kernelspec": {
   "display_name": "Python 3 (ipykernel)",
   "language": "python",
   "name": "python3"
  },
  "language_info": {
   "codemirror_mode": {
    "name": "ipython",
    "version": 3
   },
   "file_extension": ".py",
   "mimetype": "text/x-python",
   "name": "python",
   "nbconvert_exporter": "python",
   "pygments_lexer": "ipython3",
   "version": "3.9.13"
  },
  "toc": {
   "base_numbering": 1,
   "nav_menu": {},
   "number_sections": true,
   "sideBar": true,
   "skip_h1_title": false,
   "title_cell": "Table of Contents",
   "title_sidebar": "Contents",
   "toc_cell": false,
   "toc_position": {},
   "toc_section_display": true,
   "toc_window_display": false
  }
 },
 "nbformat": 4,
 "nbformat_minor": 5
}
