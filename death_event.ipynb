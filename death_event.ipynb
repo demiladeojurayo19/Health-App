{
 "cells": [
  {
   "cell_type": "markdown",
   "id": "8dca5e7b",
   "metadata": {},
   "source": [
    "# Import libaries and load data"
   ]
  },
  {
   "cell_type": "code",
   "execution_count": 1,
   "id": "24c80261",
   "metadata": {},
   "outputs": [],
   "source": [
    "from libraries import *\n",
    "from sklearn.utils import resample"
   ]
  },
  {
   "cell_type": "code",
   "execution_count": 2,
   "id": "44f36e0e",
   "metadata": {},
   "outputs": [],
   "source": [
    "# load data set\n",
    "df = pd.read_csv('heart_failure_clinical_records_dataset-pcp.csv')"
   ]
  },
  {
   "cell_type": "code",
   "execution_count": 3,
   "id": "e7a1587c",
   "metadata": {},
   "outputs": [
    {
     "data": {
      "image/png": "[encoded data removed]",
      "text/plain": [
       "<Figure size 640x480 with 1 Axes>"
      ]
     },
     "metadata": {},
     "output_type": "display_data"
    }
   ],
   "source": [
    "survived = df[df['DEATH_EVENT']==0]\n",
    "died = df[df['DEATH_EVENT']==1]\n",
    "# Upsample minority\n",
    "died_upsampled = resample(died,\n",
    "                          replace=True, \n",
    "                          n_samples=len(survived), # match number in minority class\n",
    "                          random_state=27) # reproducible results\n",
    "\n",
    "# Combine upsampled minority class with majority class\n",
    "upsampled = pd.concat([died_upsampled, survived])\n",
    "\n",
    "sns.countplot(x='DEATH_EVENT', data=upsampled).set(title='Fixed Death_Event class')\n",
    "plt.show()\n",
    "\n",
    "# Check new class counts\n",
    "#upsampled['DEATH_EVENT'].value_counts()"
   ]
  },
  {
   "cell_type": "code",
   "execution_count": 4,
   "id": "c5351f07",
   "metadata": {},
   "outputs": [],
   "source": [
    "# labels\n",
    "y = upsampled['DEATH_EVENT']\n",
    "\n",
    "# features\n",
    "X = upsampled.drop('DEATH_EVENT', axis=1)"
   ]
  },
  {
   "cell_type": "code",
   "execution_count": null,
   "id": "2d579ff5",
   "metadata": {},
   "outputs": [],
   "source": []
  },
  {
   "cell_type": "markdown",
   "id": "95138c43",
   "metadata": {},
   "source": [
    "# Logistic Regression"
   ]
  },
  {
   "cell_type": "code",
   "execution_count": 5,
   "id": "b8e8f8ef",
   "metadata": {},
   "outputs": [],
   "source": [
    "# Split the dataset into training and testing sets with 80% for training and 20% for testing,\n",
    "# ensuring reproducibility by setting the random state to 50.\n",
    "X_train, X_test, y_train, y_test = train_test_split(X, y, test_size=0.2, random_state=50)"
   ]
  },
  {
   "cell_type": "code",
   "execution_count": 6,
   "id": "30a7057e",
   "metadata": {},
   "outputs": [
    {
     "data": {
      "text/plain": [
       "LogisticRegression()"
      ]
     },
     "execution_count": 6,
     "metadata": {},
     "output_type": "execute_result"
    }
   ],
   "source": [
    "# Create a Logistic Regression model instance.\n",
    "lr = LogisticRegression()\n",
    "\n",
    "# Train the Logistic Regression model on the training data.\n",
    "lr.fit(X_train, y_train)"
   ]
  },
  {
   "cell_type": "code",
   "execution_count": 7,
   "id": "6027cf70",
   "metadata": {},
   "outputs": [],
   "source": [
    "# intercept\n",
    "intercept_class_1 = lr.intercept_[0]\n"
   ]
  },
  {
   "cell_type": "code",
   "execution_count": 8,
   "id": "86609ea5",
   "metadata": {},
   "outputs": [
    {
     "data": {
      "text/html": [
       "<div>\n",
       "<style scoped>\n",
       "    .dataframe tbody tr th:only-of-type {\n",
       "        vertical-align: middle;\n",
       "    }\n",
       "\n",
       "    .dataframe tbody tr th {\n",
       "        vertical-align: top;\n",
       "    }\n",
       "\n",
       "    .dataframe thead th {\n",
       "        text-align: right;\n",
       "    }\n",
       "</style>\n",
       "<table border=\"1\" class=\"dataframe\">\n",
       "  <thead>\n",
       "    <tr style=\"text-align: right;\">\n",
       "      <th></th>\n",
       "      <th>Coefficient</th>\n",
       "    </tr>\n",
       "  </thead>\n",
       "  <tbody>\n",
       "    <tr>\n",
       "      <th>age</th>\n",
       "      <td>0.029604</td>\n",
       "    </tr>\n",
       "    <tr>\n",
       "      <th>anaemia</th>\n",
       "      <td>0.000110</td>\n",
       "    </tr>\n",
       "    <tr>\n",
       "      <th>creatinine_phosphokinase</th>\n",
       "      <td>0.000128</td>\n",
       "    </tr>\n",
       "    <tr>\n",
       "      <th>diabetes</th>\n",
       "      <td>0.000608</td>\n",
       "    </tr>\n",
       "    <tr>\n",
       "      <th>ejection_fraction</th>\n",
       "      <td>-0.061672</td>\n",
       "    </tr>\n",
       "    <tr>\n",
       "      <th>high_blood_pressure</th>\n",
       "      <td>0.000135</td>\n",
       "    </tr>\n",
       "    <tr>\n",
       "      <th>platelets</th>\n",
       "      <td>-0.000002</td>\n",
       "    </tr>\n",
       "    <tr>\n",
       "      <th>serum_creatinine</th>\n",
       "      <td>0.006283</td>\n",
       "    </tr>\n",
       "    <tr>\n",
       "      <th>serum_sodium</th>\n",
       "      <td>0.021054</td>\n",
       "    </tr>\n",
       "    <tr>\n",
       "      <th>gender</th>\n",
       "      <td>-0.000320</td>\n",
       "    </tr>\n",
       "    <tr>\n",
       "      <th>smoking</th>\n",
       "      <td>-0.000096</td>\n",
       "    </tr>\n",
       "    <tr>\n",
       "      <th>time</th>\n",
       "      <td>-0.019226</td>\n",
       "    </tr>\n",
       "  </tbody>\n",
       "</table>\n",
       "</div>"
      ],
      "text/plain": [
       "                          Coefficient\n",
       "age                          0.029604\n",
       "anaemia                      0.000110\n",
       "creatinine_phosphokinase     0.000128\n",
       "diabetes                     0.000608\n",
       "ejection_fraction           -0.061672\n",
       "high_blood_pressure          0.000135\n",
       "platelets                   -0.000002\n",
       "serum_creatinine             0.006283\n",
       "serum_sodium                 0.021054\n",
       "gender                      -0.000320\n",
       "smoking                     -0.000096\n",
       "time                        -0.019226"
      ]
     },
     "execution_count": 8,
     "metadata": {},
     "output_type": "execute_result"
    }
   ],
   "source": [
    "coeff_df = pd.DataFrame(lr.coef_.T, X.columns, columns=['Coefficient'])\n",
    "coeff_df"
   ]
  },
  {
   "cell_type": "code",
   "execution_count": 9,
   "id": "cb5549cc",
   "metadata": {},
   "outputs": [
    {
     "data": {
      "text/plain": [
       "array([[28,  7],\n",
       "       [10, 37]], dtype=int64)"
      ]
     },
     "execution_count": 9,
     "metadata": {},
     "output_type": "execute_result"
    }
   ],
   "source": [
    "pred_lr = lr.predict(X_test)\n",
    "confusion_matrix(y_test, pred_lr)"
   ]
  },
  {
   "cell_type": "code",
   "execution_count": 10,
   "id": "1f04b9d7",
   "metadata": {},
   "outputs": [
    {
     "data": {
      "image/png": "[encoded data removed]",
      "text/plain": [
       "<Figure size 640x480 with 2 Axes>"
      ]
     },
     "metadata": {},
     "output_type": "display_data"
    }
   ],
   "source": [
    "labels = ['1: Died', '0: Survived']\n",
    "\n",
    "log_conf_mat = pd.DataFrame(data=confusion_matrix(y_test, pred_lr), index=labels, columns=labels)\n",
    "# Display the confusion matrix using a heatmap\n",
    "sns.heatmap(log_conf_mat, annot=True, fmt=\"d\", cmap=\"Blues\", xticklabels=labels, yticklabels=labels)\n",
    "plt.title('Confusion Matrix')\n",
    "plt.xlabel('Predicted')\n",
    "plt.ylabel('True')\n",
    "plt.show()"
   ]
  },
  {
   "cell_type": "markdown",
   "id": "c74581ab",
   "metadata": {},
   "source": [
    "A couple of key points regarding the confusion matrix:\n",
    "\n",
    "Each row corresponds to the overall counts of \"Died\" and \"Survived\" in the ground truth. In simpler terms, the sum of all values in the first row represents the total number of observations in our test dataset labeled as \"Died.\"\n",
    "\n",
    "Correspondingly, each column reflects the counts for predictions categorized as \"Died\" and \"Survived.\"\n",
    "\n",
    "The intersection of each row and column provides distinct insights into the results, revealing True Positives (TP), True Negatives (TN), False Positives (FP), or False Negatives (FN).\n",
    "\n",
    "Drawing conclusions from the presented confusion matrix, the model identified a total of 35 observations as \"Died\" (28 true positives + 7 false positives) and 47 observations as \"Survived\" (10 false negatives + 37 true negatives)."
   ]
  },
  {
   "cell_type": "code",
   "execution_count": 11,
   "id": "ae05614a",
   "metadata": {},
   "outputs": [
    {
     "name": "stdout",
     "output_type": "stream",
     "text": [
      "Classification Report\n",
      "              precision    recall  f1-score   support\n",
      "\n",
      "     1: Died       0.74      0.80      0.77        35\n",
      " 0: Survived       0.84      0.79      0.81        47\n",
      "\n",
      "    accuracy                           0.79        82\n",
      "   macro avg       0.79      0.79      0.79        82\n",
      "weighted avg       0.80      0.79      0.79        82\n",
      "\n"
     ]
    }
   ],
   "source": [
    "print('Classification Report')\n",
    "print(classification_report(y_test, pred_lr, target_names=['1: Died', '0: Survived']))"
   ]
  },
  {
   "cell_type": "markdown",
   "id": "f2e9abc7",
   "metadata": {},
   "source": [
    "# Decision Tree Classifier"
   ]
  },
  {
   "cell_type": "code",
   "execution_count": 12,
   "id": "79b0c91f",
   "metadata": {},
   "outputs": [],
   "source": [
    "def train_decision_tree(X_train, y_train, random_state=42):\n",
    "    # Create a Decision Tree classifier instance\n",
    "    tree = DecisionTreeClassifier(random_state=random_state)\n",
    "\n",
    "    # Train the Decision Tree classifier on the training data\n",
    "    tree.fit(X_train, y_train)\n",
    "\n",
    "    return tree"
   ]
  },
  {
   "cell_type": "code",
   "execution_count": 13,
   "id": "8d0e8aec",
   "metadata": {},
   "outputs": [],
   "source": [
    "trained_tree = train_decision_tree(X_train, y_train)"
   ]
  },
  {
   "cell_type": "code",
   "execution_count": 14,
   "id": "1eb4256f",
   "metadata": {},
   "outputs": [
    {
     "name": "stdout",
     "output_type": "stream",
     "text": [
      "Class counts in y_test:\n",
      "1    47\n",
      "0    35\n",
      "Name: DEATH_EVENT, dtype: int64\n"
     ]
    }
   ],
   "source": [
    "# Use the trained Decision Tree classifier to make predictions on the test set\n",
    "y_pred = trained_tree.predict(X_test)\n",
    "\n",
    "# Display the counts of each class in the true labels (y_test)\n",
    "class_counts = y_test.value_counts()\n",
    "print(\"Class counts in y_test:\")\n",
    "print(class_counts)\n"
   ]
  },
  {
   "cell_type": "code",
   "execution_count": 15,
   "id": "b8d7a906",
   "metadata": {},
   "outputs": [
    {
     "data": {
      "image/png": "[encoded data removed]",
      "text/plain": [
       "<Figure size 640x480 with 2 Axes>"
      ]
     },
     "metadata": {},
     "output_type": "display_data"
    }
   ],
   "source": [
    "labels = ['Died', 'survived']\n",
    "\n",
    "tree_conf_mat = pd.DataFrame(data=confusion_matrix(y_test, y_pred), index=labels, columns=labels)\n",
    "# Display the confusion matrix using a heatmap\n",
    "sns.heatmap(tree_conf_mat, annot=True, fmt=\"d\", cmap=\"Blues\", xticklabels=labels, yticklabels=labels)\n",
    "plt.title('Confusion Matrix')\n",
    "plt.xlabel('Predicted')\n",
    "plt.ylabel('True')\n",
    "plt.show()"
   ]
  },
  {
   "cell_type": "code",
   "execution_count": 16,
   "id": "09fd1c4c",
   "metadata": {},
   "outputs": [
    {
     "name": "stdout",
     "output_type": "stream",
     "text": [
      "              precision    recall  f1-score   support\n",
      "\n",
      "        Died       0.80      0.69      0.74        35\n",
      "    survived       0.79      0.87      0.83        47\n",
      "\n",
      "    accuracy                           0.79        82\n",
      "   macro avg       0.79      0.78      0.78        82\n",
      "weighted avg       0.79      0.79      0.79        82\n",
      "\n"
     ]
    }
   ],
   "source": [
    "print(classification_report(y_test, y_pred, target_names=['Died', 'survived']))"
   ]
  },
  {
   "cell_type": "markdown",
   "id": "d5b9aaa0",
   "metadata": {},
   "source": [
    "# Support Vector Machine"
   ]
  },
  {
   "cell_type": "code",
   "execution_count": 17,
   "id": "78c52c3a",
   "metadata": {
    "scrolled": true
   },
   "outputs": [],
   "source": [
    "svc = SVC(kernel='linear')\n",
    "svc.fit(X_train, y_train)\n",
    "y_pred = svc.predict(X_test)\n",
    "\n"
   ]
  },
  {
   "cell_type": "code",
   "execution_count": 18,
   "id": "c2858dbd",
   "metadata": {},
   "outputs": [
    {
     "data": {
      "image/png": "[encoded data removed]",
      "text/plain": [
       "<Figure size 640x480 with 2 Axes>"
      ]
     },
     "metadata": {},
     "output_type": "display_data"
    }
   ],
   "source": [
    "labels = ['Died', 'survived']\n",
    "\n",
    "SVM_conf_mat = pd.DataFrame(data=confusion_matrix(y_test, y_pred), index=labels, columns=labels)\n",
    "# Display the confusion matrix using a heatmap\n",
    "sns.heatmap(SVM_conf_mat, annot=True, fmt=\"d\", cmap=\"Blues\", xticklabels=labels, yticklabels=labels)\n",
    "plt.title('Confusion Matrix')\n",
    "plt.xlabel('Predicted')\n",
    "plt.ylabel('True')\n",
    "plt.show()"
   ]
  },
  {
   "cell_type": "code",
   "execution_count": 19,
   "id": "b6d62d91",
   "metadata": {},
   "outputs": [
    {
     "name": "stdout",
     "output_type": "stream",
     "text": [
      "The accuracy score of the SVC is: 0.7682926829268293\n",
      "\n",
      "\n",
      "Classification Report:\n",
      "\n",
      "               precision    recall  f1-score   support\n",
      "\n",
      "           0       0.72      0.74      0.73        35\n",
      "           1       0.80      0.79      0.80        47\n",
      "\n",
      "    accuracy                           0.77        82\n",
      "   macro avg       0.76      0.77      0.76        82\n",
      "weighted avg       0.77      0.77      0.77        82\n",
      "\n"
     ]
    }
   ],
   "source": [
    "print(\"The accuracy score of the SVC is:\", accuracy_score(y_test, y_pred))\n",
    "print(\"\\n\\nClassification Report:\\n\\n\", classification_report(y_test, y_pred))"
   ]
  },
  {
   "cell_type": "markdown",
   "id": "9994c2d6",
   "metadata": {},
   "source": [
    "# Save the model"
   ]
  },
  {
   "cell_type": "code",
   "execution_count": 20,
   "id": "80136e55",
   "metadata": {},
   "outputs": [],
   "source": [
    "# Save the trained model to a file using pickle\n",
    "with open('death_model.pkl', 'wb') as file:\n",
    "    pickle.dump(lr, file)"
   ]
  },
  {
   "cell_type": "code",
   "execution_count": null,
   "id": "15b97268",
   "metadata": {},
   "outputs": [],
   "source": []
  }
 ],
 "metadata": {
  "kernelspec": {
   "display_name": "Python 3 (ipykernel)",
   "language": "python",
   "name": "python3"
  },
  "language_info": {
   "codemirror_mode": {
    "name": "ipython",
    "version": 3
   },
   "file_extension": ".py",
   "mimetype": "text/x-python",
   "name": "python",
   "nbconvert_exporter": "python",
   "pygments_lexer": "ipython3",
   "version": "3.9.13"
  },
  "toc": {
   "base_numbering": 1,
   "nav_menu": {},
   "number_sections": true,
   "sideBar": true,
   "skip_h1_title": false,
   "title_cell": "Table of Contents",
   "title_sidebar": "Contents",
   "toc_cell": false,
   "toc_position": {},
   "toc_section_display": true,
   "toc_window_display": false
  }
 },
 "nbformat": 4,
 "nbformat_minor": 5
}
