{
 "cells": [
  {
   "cell_type": "code",
   "execution_count": 1,
   "id": "a2c50329",
   "metadata": {},
   "outputs": [],
   "source": [
    "from libraries import *"
   ]
  },
  {
   "cell_type": "code",
   "execution_count": 2,
   "id": "ed598ced",
   "metadata": {},
   "outputs": [],
   "source": [
    "def explore_data(data):\n",
    "    shape = data.shape\n",
    "    print(\"Number of rows:\", shape[0])\n",
    "    print(\"Number of columns:\", shape[1])"
   ]
  },
  {
   "cell_type": "code",
   "execution_count": 3,
   "id": "c03ea2e1",
   "metadata": {},
   "outputs": [],
   "source": [
    "def display_dataframe_info(data):\n",
    "    # Display information about the DataFrame\n",
    "    data.info()"
   ]
  },
  {
   "cell_type": "code",
   "execution_count": 4,
   "id": "c38badda",
   "metadata": {},
   "outputs": [],
   "source": [
    "def display_missing_values(data):\n",
    "    # Display the count of missing values in each column\n",
    "    missing_values = data.isnull().sum()\n",
    "    print(\"Missing values in each column:\")\n",
    "    missing_values"
   ]
  },
  {
   "cell_type": "code",
   "execution_count": 5,
   "id": "00c4bc8b",
   "metadata": {},
   "outputs": [],
   "source": [
    "def display_descriptive_statistics(data):\n",
    "    # Display descriptive statistics of the DataFrame\n",
    "    descriptive_stats = data.describe()\n",
    "    print(\"Descriptive statistics:\")\n",
    "    print(descriptive_stats)"
   ]
  },
  {
   "cell_type": "code",
   "execution_count": 6,
   "id": "a8114292",
   "metadata": {},
   "outputs": [],
   "source": [
    "def display_skewness(data):\n",
    "    # Display skewness for each numerical column\n",
    "    skewness = data.skew()\n",
    "    print(\"Skewness for each column:\")\n",
    "    print(skewness)"
   ]
  },
  {
   "cell_type": "code",
   "execution_count": 7,
   "id": "ac8652aa",
   "metadata": {},
   "outputs": [],
   "source": [
    "def display_kurtosis(data):\n",
    "    # Display kurtosis for each numerical column\n",
    "    kurtosis_values = data.kurtosis()\n",
    "    print(\"Kurtosis for each column:\")\n",
    "    print(kurtosis_values)"
   ]
  },
  {
   "cell_type": "code",
   "execution_count": 8,
   "id": "b3ed418c",
   "metadata": {},
   "outputs": [],
   "source": [
    "def plot_numerical_feature_histograms(data, numerical_features):\n",
    "    # Plot histograms for each numerical feature\n",
    "    plt.figure(figsize=(12, 10))\n",
    "    data[numerical_features].hist(bins=20, edgecolor='black', grid=False, layout=(3, 3), figsize=(12, 10), color='skyblue')\n",
    "    plt.suptitle('Distribution of Numerical Features', fontsize=16)\n",
    "    plt.tight_layout(rect=[0, 0, 1, 0.96])  # Adjust layout for title\n",
    "    plt.show();"
   ]
  },
  {
   "cell_type": "code",
   "execution_count": 9,
   "id": "605fe303",
   "metadata": {},
   "outputs": [],
   "source": [
    "def plot_boxplots_numerical_features(data, numerical_features):\n",
    "    # Plot individual boxplots for each numerical feature\n",
    "    plt.figure(figsize=(12, 15))\n",
    "    for i, feature in enumerate(numerical_features, 1):\n",
    "        plt.subplot(3, 3, i)\n",
    "        sns.boxplot(x=data[feature], palette='pastel')\n",
    "        plt.title(f'Boxplot of {feature.capitalize()}', fontsize=12)\n",
    "        plt.xlabel(feature.capitalize(), fontsize=10)\n",
    "        plt.ylabel('Values', fontsize=10)\n",
    "        plt.xticks(rotation=45, ha='right')  # Rotate x-axis labels for better visibility\n",
    "\n",
    "    plt.tight_layout(rect=[0, 0, 1, 0.96])  # Adjust layout for title\n",
    "    plt.show();\n"
   ]
  },
  {
   "cell_type": "code",
   "execution_count": 10,
   "id": "f334390b",
   "metadata": {},
   "outputs": [],
   "source": [
    "def plot_count_plots_categorical_features(data, categorical_features):\n",
    "    # Plot individual count plots for each categorical feature\n",
    "    plt.figure(figsize=(12, 10))\n",
    "    for i, feature in enumerate(categorical_features, 1):\n",
    "        plt.subplot(2, 3, i)\n",
    "        sns.countplot(x=feature, data=data, palette='pastel')\n",
    "        plt.title(f'Count Plot of {feature.capitalize()}', fontsize=12)\n",
    "        plt.xlabel(feature.capitalize(), fontsize=10)\n",
    "        plt.ylabel('Count', fontsize=10)\n",
    "\n",
    "    plt.tight_layout(rect=[0, 0, 1, 0.96])  # Adjust layout for title\n",
    "    plt.show()"
   ]
  },
  {
   "cell_type": "code",
   "execution_count": 11,
   "id": "a9992ed9",
   "metadata": {},
   "outputs": [],
   "source": [
    "def plot_correlation_matrix(data):\n",
    "    # Compute the correlation matrix\n",
    "    correlation_matrix = data.corr()\n",
    "\n",
    "    # Plot the correlation matrix using a heatmap\n",
    "    plt.figure(figsize=(10, 8))\n",
    "    sns.heatmap(correlation_matrix, annot=True, cmap='coolwarm', fmt=\".2f\", linewidths=.5)\n",
    "    plt.title('Correlation Matrix', fontsize=16)\n",
    "    plt.show()"
   ]
  },
  {
   "cell_type": "code",
   "execution_count": 12,
   "id": "298d063c",
   "metadata": {},
   "outputs": [],
   "source": [
    "def create_scatter_facetgrid(data):\n",
    "    # List of categorical features\n",
    "    categorical_features = ['anaemia', 'diabetes', 'high_blood_pressure', 'gender', 'smoking', 'DEATH_EVENT']\n",
    "\n",
    "    # List of numerical features\n",
    "    numerical_features = ['age', 'creatinine_phosphokinase', 'ejection_fraction', 'platelets', 'serum_creatinine', 'serum_sodium', 'time']\n",
    "\n",
    "    # Create a FacetGrid for different categorical features against numerical features\n",
    "    g = sns.FacetGrid(data, col=\"DEATH_EVENT\", row=\"smoking\", margin_titles=True, height=4, palette=\"pastel\")\n",
    "    g.map(plt.scatter, \"age\", \"serum_creatinine\", edgecolor=\"white\", alpha=0.7)\n",
    "    g.set_axis_labels(\"Age\", \"Serum Creatinine\")\n",
    "    g.set_titles(col_template=\"{col_name} Death Event\", row_template=\"{row_name} Smoking\")\n",
    "    g.set(xlim=(0, 100), ylim=(0, 10), xticks=[0, 20, 40, 60, 80, 100], yticks=[0, 2, 4, 6, 8, 10])\n",
    "\n",
    "    # Add a legend for the 'DEATH_EVENT' column\n",
    "    g.add_legend()\n",
    "\n",
    "    # Adjust the layout for better spacing\n",
    "    g.fig.subplots_adjust(wspace=.02, hspace=.02)\n",
    "\n",
    "    # Set a stylish background color\n",
    "    g.fig.set_facecolor(\"#f5f5f5\")\n",
    "\n",
    "    plt.show()"
   ]
  },
  {
   "cell_type": "code",
   "execution_count": 13,
   "id": "07a73298",
   "metadata": {},
   "outputs": [],
   "source": [
    "def create_stacked_bar_plot(data, x_feature, hue_feature):\n",
    "    # List of categorical features\n",
    "    categorical_features = ['anaemia', 'diabetes', 'high_blood_pressure', 'gender', 'smoking', 'DEATH_EVENT']\n",
    "\n",
    "    # Create a stacked bar plot for the relationship between two categorical features\n",
    "    plt.figure(figsize=(12, 8))\n",
    "    sns.countplot(x=x_feature, hue=hue_feature, data=data, palette='pastel')\n",
    "\n",
    "    # Add labels and title\n",
    "    plt.title(f'Relationship between {x_feature.capitalize()} and {hue_feature.capitalize()}', fontsize=16)\n",
    "    plt.xlabel(x_feature.capitalize(), fontsize=14)\n",
    "    plt.ylabel('Count', fontsize=14)\n",
    "\n",
    "    # Add legend for 'hue_feature' categories\n",
    "    plt.legend(title=hue_feature.capitalize(), title_fontsize='12', loc='upper right')\n",
    "\n",
    "    plt.show()"
   ]
  },
  {
   "cell_type": "code",
   "execution_count": 14,
   "id": "bcbc17ff",
   "metadata": {},
   "outputs": [],
   "source": [
    "def create_stacked_bar_plot_multiple_factors(data, x_feature, hue1_feature, hue2_feature):\n",
    "    # List of categorical features\n",
    "    categorical_features = ['anaemia', 'diabetes', 'high_blood_pressure', 'gender', 'smoking', 'DEATH_EVENT']\n",
    "\n",
    "    # Create a stacked bar plot for the relationship between two categorical features\n",
    "    plt.figure(figsize=(12, 8))\n",
    "    sns.countplot(x=x_feature, hue=hue1_feature, data=data, palette='pastel', hue_order=[1, 0])\n",
    "    sns.countplot(x=x_feature, hue=hue2_feature, data=data, palette='muted', hue_order=[1, 0], alpha=0.8)\n",
    "\n",
    "    # Add labels and title\n",
    "    plt.title(f'Relationship between {hue1_feature.capitalize()}, {hue2_feature.capitalize()}, and {x_feature.capitalize()}', fontsize=16)\n",
    "    plt.xlabel(x_feature.capitalize(), fontsize=14)\n",
    "    plt.ylabel('Count', fontsize=14)\n",
    "\n",
    "    # Add legend\n",
    "    plt.legend(title='Factor', title_fontsize='12', loc='upper right', labels=[hue1_feature.capitalize(), hue2_feature.capitalize()])\n",
    "\n",
    "    plt.show()"
   ]
  },
  {
   "cell_type": "code",
   "execution_count": 15,
   "id": "1d97df6d",
   "metadata": {},
   "outputs": [],
   "source": [
    "def create_stacked_bar_plot_multiple_factors(data, x_feature, hue1_feature, hue2_feature):\n",
    "    # List of categorical features\n",
    "    categorical_features = ['anaemia', 'diabetes', 'high_blood_pressure', 'gender', 'smoking', 'DEATH_EVENT']\n",
    "\n",
    "    # Create a stacked bar plot for the relationship between two categorical features\n",
    "    plt.figure(figsize=(12, 8))\n",
    "    sns.countplot(x=x_feature, hue=hue1_feature, data=data, palette='pastel', hue_order=[1, 0])\n",
    "    sns.countplot(x=x_feature, hue=hue2_feature, data=data, palette='muted', hue_order=[1, 0], alpha=0.8)\n",
    "\n",
    "    # Add labels and title\n",
    "    plt.title(f'Relationship between {hue1_feature.capitalize()}, {hue2_feature.capitalize()}, and {x_feature.capitalize()}', fontsize=16)\n",
    "    plt.xlabel(x_feature.capitalize(), fontsize=14)\n",
    "    plt.ylabel('Count', fontsize=14)\n",
    "\n",
    "    # Add legend\n",
    "    plt.legend(title='Factor', title_fontsize='12', loc='upper right', labels=[hue1_feature.capitalize(), hue2_feature.capitalize()])\n",
    "\n",
    "    plt.show()"
   ]
  },
  {
   "cell_type": "code",
   "execution_count": 16,
   "id": "4f5fd328",
   "metadata": {},
   "outputs": [],
   "source": [
    "def plot_survival_bar(df):\n",
    "    # Separate data into groups based on 'DEATH_EVENT'\n",
    "    survived = df[df['DEATH_EVENT'] == 0]\n",
    "    died = df[df['DEATH_EVENT'] == 1]\n",
    "\n",
    "    # Get all possible labels\n",
    "    labels = df['DEATH_EVENT'].unique()\n",
    "\n",
    "    # Calculate the number of observations for each group\n",
    "    heights = [len(died), len(survived)]\n",
    "\n",
    "    # Create a bar plot\n",
    "    plt.bar(labels, heights, color='grey')\n",
    "    plt.xticks(labels, ['Died', 'Survived'])\n",
    "    plt.ylabel(\"# of observations\")\n",
    "    plt.title('Survival Analysis')\n",
    "    plt.show()\n"
   ]
  },
  {
   "cell_type": "code",
   "execution_count": 17,
   "id": "5c1ec58c",
   "metadata": {},
   "outputs": [],
   "source": [
    "def plot_anaemia_bar(df):\n",
    "    # Separate data into groups based on 'DEATH_EVENT'\n",
    "    no_anaemia = df[df['anaemia'] == 0]\n",
    "    anaemia = df[df['anaemia'] == 1]\n",
    "\n",
    "    # Get all possible labels\n",
    "    labels = df['anaemia'].unique()\n",
    "\n",
    "    # Calculate the number of observations for each group\n",
    "    heights = [len(anaemia), len(no_anaemia)]\n",
    "\n",
    "    # Create a bar plot\n",
    "    plt.bar(labels, heights, color='grey')\n",
    "    plt.xticks(labels, ['Had Anaemia', 'Does not have Anaemia'])\n",
    "    plt.ylabel(\"# of observations\")\n",
    "    plt.title('Anaemia Analysis')\n",
    "    plt.show()\n"
   ]
  },
  {
   "cell_type": "code",
   "execution_count": 18,
   "id": "f3bd7187",
   "metadata": {},
   "outputs": [],
   "source": [
    "def hbp(df):\n",
    "    # Separate data into groups based on 'DEATH_EVENT'\n",
    "    no_hbp = df[df['high_blood_pressure'] == 0]\n",
    "    hbp = df[df['high_blood_pressure'] == 1]\n",
    "\n",
    "    # Get all possible labels\n",
    "    labels = df['high_blood_pressure'].unique()\n",
    "\n",
    "    # Calculate the number of observations for each group\n",
    "    heights = [len(hbp), len(no_hbp)]\n",
    "\n",
    "    # Create a bar plot\n",
    "    plt.bar(labels, heights, color='grey')\n",
    "    plt.xticks(labels, ['HBP', 'No HBP'])\n",
    "    plt.ylabel(\"# of observations\")\n",
    "    plt.title('High Blood Pressure Analysis')\n",
    "    plt.show()"
   ]
  },
  {
   "cell_type": "code",
   "execution_count": null,
   "id": "e70e9f12",
   "metadata": {},
   "outputs": [],
   "source": []
  }
 ],
 "metadata": {
  "kernelspec": {
   "display_name": "Python 3 (ipykernel)",
   "language": "python",
   "name": "python3"
  },
  "language_info": {
   "codemirror_mode": {
    "name": "ipython",
    "version": 3
   },
   "file_extension": ".py",
   "mimetype": "text/x-python",
   "name": "python",
   "nbconvert_exporter": "python",
   "pygments_lexer": "ipython3",
   "version": "3.9.13"
  },
  "toc": {
   "base_numbering": 1,
   "nav_menu": {},
   "number_sections": true,
   "sideBar": true,
   "skip_h1_title": false,
   "title_cell": "Table of Contents",
   "title_sidebar": "Contents",
   "toc_cell": false,
   "toc_position": {},
   "toc_section_display": true,
   "toc_window_display": false
  }
 },
 "nbformat": 4,
 "nbformat_minor": 5
}
